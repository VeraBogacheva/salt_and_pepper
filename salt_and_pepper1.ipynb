{
  "nbformat": 4,
  "nbformat_minor": 0,
  "metadata": {
    "accelerator": "GPU",
    "colab": {
      "name": "Untitled_2.ipynb",
      "provenance": [],
      "collapsed_sections": [],
      "toc_visible": true
    },
    "kernelspec": {
      "display_name": "Python 3",
      "name": "python3"
    }
  },
  "cells": [
    {
      "cell_type": "code",
      "metadata": {
        "id": "zG76EE4rFrFL"
      },
      "source": [
        "import numpy as np\n",
        "import numba\n",
        "from matplotlib import pyplot as plt\n",
        "from numba import cuda\n",
        "import math\n",
        "from time import time\n",
        "from PIL import Image\n"
      ],
      "execution_count": 13,
      "outputs": []
    },
    {
      "cell_type": "code",
      "metadata": {
        "id": "ICh_YTS3q1bX"
      },
      "source": [
        "def salt_and_pepper_add(image, prob):\n",
        "  rnd = np.random.rand(image.shape[0], image.shape[1])\n",
        "  noisy = image.copy()\n",
        "  noisy[rnd < prob] = 0\n",
        "  noisy[rnd > 1 - prob] = 255\n",
        "  return noisy\n"
      ],
      "execution_count": 14,
      "outputs": []
    },
    {
      "cell_type": "code",
      "metadata": {
        "id": "MiTJ5pZGj9MT"
      },
      "source": [
        "def median_filter(a):\n",
        "  b = a.copy()\n",
        "  start = time()\n",
        "  for i in range(2, len(a)-1):\n",
        "    for j in range(2, len(a[i])-1):\n",
        "      t=[0, 0, 0, 0, 0, 0, 0, 0, 0]\n",
        "      t[0], t[1], t[2], t[3], t[4], t[5], t[6], t[7], t[8] = a[i-1][j-1], a[i-1][j], a[i-1][j+1], a[i][j-1], a[i][j], a[i][j+1], a[i+1][j-1], a[i+1][j], a[i+1][j+1]\n",
        "      for k in range(8):\n",
        "        for l in range(8-k):\n",
        "          if t[l]>t[l+1]:\n",
        "            t[l], t[l+1] = t[l+1], t[l]\n",
        "      b[i][j]=t[(int)(len(t)/2)]\n",
        "  return b, time()-start\n"
      ],
      "execution_count": 15,
      "outputs": []
    },
    {
      "cell_type": "code",
      "metadata": {
        "id": "AP-YCeAakBDX"
      },
      "source": [
        "@cuda.jit\n",
        "def gpu_median_filter(a, b):\n",
        "  i, j = cuda.grid(2)\n",
        "  t=cuda.local.array(shape=9, dtype=numba.int64)\n",
        "  t[0], t[1], t[2], t[3], t[4], t[5], t[6], t[7], t[8] = a[i-1][j-1], a[i-1][j], a[i-1][j+1], a[i][j-1], a[i][j], a[i][j+1], a[i+1][j-1], a[i+1][j], a[i+1][j+1]\n",
        "  for k in range(8):\n",
        "    for l in range(8-k):\n",
        "      if t[l]>t[l+1]:\n",
        "        t[l], t[l+1] = t[l+1], t[l]\n",
        "  b[i][j]=t[(int)(len(t)/2)]\n",
        "  "
      ],
      "execution_count": 16,
      "outputs": []
    },
    {
      "cell_type": "code",
      "metadata": {
        "id": "aRQzR1ybkIv_"
      },
      "source": [
        "def prepare_and_exec_gpu(a):\n",
        "  b = a.copy()\n",
        "  tread_number_block = 32\n",
        "\n",
        "  a_global = cuda.to_device(a)\n",
        "  b_global = cuda.to_device(b)\n",
        "    \n",
        "  threadsperblock = (tread_number_block, tread_number_block)\n",
        "  blockspergrid_x = int(math.ceil(a.shape[0] / threadsperblock[1]))\n",
        "  blockspergrid_y = int(math.ceil(b.shape[1] / threadsperblock[0]))\n",
        "  blockspergrid = (blockspergrid_x, blockspergrid_y)\n",
        "\n",
        "  start = time()\n",
        "  gpu_median_filter[blockspergrid, threadsperblock](a_global, b_global)\n",
        "  return b_global.copy_to_host(), time()-start \n"
      ],
      "execution_count": 17,
      "outputs": []
    },
    {
      "cell_type": "code",
      "metadata": {
        "id": "aZ81godAkMYv"
      },
      "source": [
        "def experiment(img_name, need_draw):\n",
        "  im=(Image.open(img_name)).convert('L')\n",
        "  if need_draw==True:\n",
        "    display(im)\n",
        "  img = np.array(im)\n",
        "\n",
        "  img = salt_and_pepper_add(img, 0.09)\n",
        "  if need_draw==True:\n",
        "    display(Image.fromarray(np.uint8(img)))\n",
        "\n",
        "  img2, ctime = median_filter(img)\n",
        "  if need_draw==True:\n",
        "    display(Image.fromarray(np.uint8(img2)))\n",
        "\n",
        "  img2, gtime = prepare_and_exec_gpu(img)\n",
        "  if need_draw==True:\n",
        "    display(Image.fromarray(np.uint8(img2)))\n",
        "  \n",
        "  n=len(img)*len(img[0])\n",
        "  print('Количество элементов =', n)\n",
        "  print('Время на CPU =', ctime)\n",
        "  print('Время на GPU =', gtime)\n",
        "  print('Ускорение =', ctime/gtime)\n",
        "  print()\n",
        "  return ctime/gtime, n\n"
      ],
      "execution_count": 20,
      "outputs": []
    },
    {
      "cell_type": "code",
      "metadata": {
        "id": "d9jx0QXRkO2F",
        "outputId": "fdc6b68c-7ccc-4dac-a7fe-48fe2cba79fe",
        "colab": {
          "base_uri": "https://localhost:8080/",
          "height": 618
        }
      },
      "source": [
        "a1, n1 = experiment('img1.jpg', False)\n",
        "a2, n2 = experiment('img2.jpg', False)\n",
        "a3, n3 = experiment('img3.jpg', False)\n",
        "a4, n4 = experiment('img4.jpg', False)\n",
        "\n",
        "plt.plot([n1, n2, n3, n4], [a1, a2, a3, a4])\n",
        "plt.show()"
      ],
      "execution_count": 22,
      "outputs": [
        {
          "output_type": "stream",
          "text": [
            "Количество элементов = 153600\n",
            "Время на CPU = 1.5593550205230713\n",
            "Время на GPU = 0.0006608963012695312\n",
            "Ускорение = 2359.4549062049064\n",
            "\n",
            "Количество элементов = 480000\n",
            "Время на CPU = 5.037527322769165\n",
            "Время на GPU = 0.0008785724639892578\n",
            "Ускорение = 5733.764179104478\n",
            "\n",
            "Количество элементов = 983040\n",
            "Время на CPU = 10.301622867584229\n",
            "Время на GPU = 0.0018415451049804688\n",
            "Ускорение = 5594.0106162610045\n",
            "\n",
            "Количество элементов = 24000000\n",
            "Время на CPU = 249.74744367599487\n",
            "Время на GPU = 0.01694631576538086\n",
            "Ускорение = 14737.565800951068\n",
            "\n"
          ],
          "name": "stdout"
        },
        {
          "output_type": "display_data",
          "data": {
            "image/png": "[encoded data removed]",
            "text/plain": [
              "<Figure size 432x288 with 1 Axes>"
            ]
          },
          "metadata": {
            "tags": [],
            "needs_background": "light"
          }
        }
      ]
    }
  ]
}